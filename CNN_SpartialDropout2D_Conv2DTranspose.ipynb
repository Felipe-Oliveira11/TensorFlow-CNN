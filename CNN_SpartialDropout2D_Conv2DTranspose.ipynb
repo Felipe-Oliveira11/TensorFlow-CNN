{
  "nbformat": 4,
  "nbformat_minor": 0,
  "metadata": {
    "colab": {
      "name": "CNN_SpartialDropout2D_Conv2DTranspose.ipynb",
      "provenance": [],
      "collapsed_sections": [],
      "toc_visible": true,
      "authorship_tag": "ABX9TyPqZj3XNEKrwZMkxSA/mUen",
      "include_colab_link": true
    },
    "kernelspec": {
      "name": "python3",
      "display_name": "Python 3"
    }
  },
  "cells": [
    {
      "cell_type": "markdown",
      "metadata": {
        "id": "view-in-github",
        "colab_type": "text"
      },
      "source": [
        "<a href=\"https://colab.research.google.com/github/Felipe-Oliveira11/TensorFlow-CNN/blob/master/CNN_SpartialDropout2D_Conv2DTranspose.ipynb\" target=\"_parent\"><img src=\"https://colab.research.google.com/assets/colab-badge.svg\" alt=\"Open In Colab\"/></a>"
      ]
    },
    {
      "cell_type": "code",
      "metadata": {
        "id": "HnCNpbqCgCjp",
        "colab_type": "code",
        "colab": {
          "base_uri": "https://localhost:8080/",
          "height": 71
        },
        "outputId": "ce0c58f7-1318-43d5-bcbe-50ac64c75e14"
      },
      "source": [
        "import tensorflow as tf\n",
        "from tensorflow import keras\n",
        "from tensorflow.keras.models import save_model\n",
        "from tensorflow.keras.models import load_model\n",
        "from tensorflow.keras.models import Sequential\n",
        "from tensorflow.keras.optimizers import SGD, Adam, RMSprop\n",
        "from tensorflow.keras.layers import Dense, Input, Flatten\n",
        "from tensorflow.keras.layers import Dropout\n",
        "from tensorflow.keras.layers import SpatialDropout2D\n",
        "from tensorflow.keras.losses import SparseCategoricalCrossentropy\n",
        "from tensorflow.keras.utils import plot_model\n",
        "from tensorflow.keras.layers import Conv2D, MaxPool2D, GlobalMaxPool2D\n",
        "from tensorflow.keras.callbacks import EarlyStopping\n",
        "\n",
        "import time \n",
        "import datetime\n",
        "import pandas as pd \n",
        "import numpy as np\n",
        "import matplotlib.pyplot as plt\n",
        "import seaborn as sns\n",
        "from sklearn.metrics import confusion_matrix\n",
        "from sklearn.metrics import classification_report, accuracy_score"
      ],
      "execution_count": 1,
      "outputs": [
        {
          "output_type": "stream",
          "text": [
            "/usr/local/lib/python3.6/dist-packages/statsmodels/tools/_testing.py:19: FutureWarning: pandas.util.testing is deprecated. Use the functions in the public API at pandas.testing instead.\n",
            "  import pandas.util.testing as tm\n"
          ],
          "name": "stderr"
        }
      ]
    },
    {
      "cell_type": "code",
      "metadata": {
        "id": "FM2Es9eCgZ1Z",
        "colab_type": "code",
        "colab": {
          "base_uri": "https://localhost:8080/",
          "height": 153
        },
        "outputId": "f91f82c1-7a09-44eb-bb79-2d31ddac55b7"
      },
      "source": [
        "fashion_mnist = keras.datasets.fashion_mnist\n",
        "(X_train, y_train), (X_test, y_test) = fashion_mnist.load_data()"
      ],
      "execution_count": 2,
      "outputs": [
        {
          "output_type": "stream",
          "text": [
            "Downloading data from https://storage.googleapis.com/tensorflow/tf-keras-datasets/train-labels-idx1-ubyte.gz\n",
            "32768/29515 [=================================] - 0s 0us/step\n",
            "Downloading data from https://storage.googleapis.com/tensorflow/tf-keras-datasets/train-images-idx3-ubyte.gz\n",
            "26427392/26421880 [==============================] - 1s 0us/step\n",
            "Downloading data from https://storage.googleapis.com/tensorflow/tf-keras-datasets/t10k-labels-idx1-ubyte.gz\n",
            "8192/5148 [===============================================] - 0s 0us/step\n",
            "Downloading data from https://storage.googleapis.com/tensorflow/tf-keras-datasets/t10k-images-idx3-ubyte.gz\n",
            "4423680/4422102 [==============================] - 0s 0us/step\n"
          ],
          "name": "stdout"
        }
      ]
    },
    {
      "cell_type": "code",
      "metadata": {
        "id": "OUmJ80U8gkSn",
        "colab_type": "code",
        "colab": {}
      },
      "source": [
        "class_names = ['T-shirt/top', 'Trouser', 'Pullover', 'Dress', 'Coat','Sandal', 'Shirt', 'Sneaker', 'Bag', 'Ankle boot']"
      ],
      "execution_count": 3,
      "outputs": []
    },
    {
      "cell_type": "code",
      "metadata": {
        "id": "y3uu-WGugmYE",
        "colab_type": "code",
        "colab": {
          "base_uri": "https://localhost:8080/",
          "height": 34
        },
        "outputId": "db76a169-3f05-4618-9ed3-17049927d3ac"
      },
      "source": [
        "# tipo de dados \n",
        "X_train = np.array(X_train, dtype='float64')\n",
        "X_test = np.array(X_test, dtype='float64')\n",
        "\n",
        "\n",
        "# padronização \n",
        "X_train = X_train / 255.0\n",
        "X_test = X_test / 255.0\n",
        "\n",
        "\n",
        "# image shape\n",
        "image_rows = 28\n",
        "image_cols = 28\n",
        "image_shape = (image_rows, image_cols,1)\n",
        "\n",
        "# Reshape | (28,28,1)\n",
        "X_train = X_train.reshape(X_train.shape[0], *image_shape)\n",
        "X_test = X_test.reshape(X_test.shape[0], *image_shape)\n",
        "\n",
        "print('Image shape: {}'.format(X_train.shape))"
      ],
      "execution_count": 4,
      "outputs": [
        {
          "output_type": "stream",
          "text": [
            "Image shape: (60000, 28, 28, 1)\n"
          ],
          "name": "stdout"
        }
      ]
    },
    {
      "cell_type": "code",
      "metadata": {
        "id": "FkjDv7dLkbeh",
        "colab_type": "code",
        "colab": {
          "base_uri": "https://localhost:8080/",
          "height": 34
        },
        "outputId": "0f9f7e04-71ed-495e-8c9e-b4a3341d124a"
      },
      "source": [
        "X_test.shape"
      ],
      "execution_count": 5,
      "outputs": [
        {
          "output_type": "execute_result",
          "data": {
            "text/plain": [
              "(10000, 28, 28, 1)"
            ]
          },
          "metadata": {
            "tags": []
          },
          "execution_count": 5
        }
      ]
    },
    {
      "cell_type": "markdown",
      "metadata": {
        "id": "-vaCxEStiPnU",
        "colab_type": "text"
      },
      "source": [
        "<br>\n",
        "<br>\n",
        "\n",
        "\n",
        "<hr>\n",
        "<br>\n",
        "\n",
        "\n",
        "### SpatialDropout2D \n",
        "\n",
        "SpatialDroput2D é uma técnica derivada do Dropout padrão aplicado normalmente em Redes MultiLayers perceptron, mas o grande diferencial do Dropout padrão para o Spatial é que, o Spatial elimina um Feature Map por inteiro e está melhor alinhado para as camadas convolucionais, pois ele vai dropar alguns filtros por inteiro e não somente alguns pixels, os pixels das imagens são altamente correlacionados o que interfere se aplicarmos o Dropout normal, a vantagem do Spatial é que são retirados os filtros por inteiros e não somente pixels de forma aleatória. \n",
        "\n",
        "\n",
        "Vamos aplicar o SpatialDropout2D em nossa arquitetura de Rede neural convolucional e ver os resultados. \n",
        "\n",
        "\n",
        "<br>"
      ]
    },
    {
      "cell_type": "code",
      "metadata": {
        "id": "qpauqIDZh5ML",
        "colab_type": "code",
        "colab": {}
      },
      "source": [
        "# CNN com SpatialDropout2D\n",
        "\n",
        "model = Sequential()\n",
        "model.add(Input(shape=(image_shape)))\n",
        "model.add(Conv2D(32, (3,3), activation='relu', padding='same'))\n",
        "model.add(SpatialDropout2D(rate=0.30))  # Spatial 1 \n",
        "model.add(Conv2D(32, (3,3), activation='relu', padding='same'))\n",
        "model.add(MaxPool2D(2,2))\n",
        "model.add(Conv2D(64, (3,3), activation='relu', padding='same'))\n",
        "model.add(SpatialDropout2D(0.30)) # Spatial 2 \n",
        "model.add(Conv2D(64, (3,3), activation='relu', padding='same'))\n",
        "model.add(MaxPool2D(2,2))\n",
        "model.add(Conv2D(128, (3,3), activation='relu', padding='valid'))\n",
        "model.add(MaxPool2D(2,2))\n",
        "model.add(GlobalMaxPool2D())\n",
        "model.add(Dense(128, activation='relu'))\n",
        "model.add(Dense(10, activation='softmax'))\n"
      ],
      "execution_count": 6,
      "outputs": []
    },
    {
      "cell_type": "code",
      "metadata": {
        "id": "sOWsuMSfkUvJ",
        "colab_type": "code",
        "colab": {
          "base_uri": "https://localhost:8080/",
          "height": 496
        },
        "outputId": "c2cbff21-b84e-4d8a-e5af-c8c7440d7202"
      },
      "source": [
        "# compile \n",
        "model.compile(optimizer=Adam(learning_rate=0.001),\n",
        "              loss=SparseCategoricalCrossentropy(),\n",
        "              metrics=['accuracy'])\n",
        "\n",
        "\n",
        "# EarlyStopping \n",
        "early_stopping = EarlyStopping(monitor='val_loss',\n",
        "                               mode='min',\n",
        "                               min_delta=0.01,\n",
        "                               patience=5\n",
        "                               )\n",
        "\n",
        "# treino \n",
        "model.fit(X_train, y_train,\n",
        "          epochs=20,\n",
        "          batch_size=64,\n",
        "          validation_data=(X_test, y_test),\n",
        "          callbacks=[early_stopping])"
      ],
      "execution_count": 7,
      "outputs": [
        {
          "output_type": "stream",
          "text": [
            "Epoch 1/20\n",
            "938/938 [==============================] - 242s 258ms/step - loss: 0.5946 - accuracy: 0.7814 - val_loss: 0.3658 - val_accuracy: 0.8670\n",
            "Epoch 2/20\n",
            "938/938 [==============================] - 243s 259ms/step - loss: 0.3428 - accuracy: 0.8753 - val_loss: 0.3071 - val_accuracy: 0.8880\n",
            "Epoch 3/20\n",
            "938/938 [==============================] - 244s 260ms/step - loss: 0.2857 - accuracy: 0.8968 - val_loss: 0.2740 - val_accuracy: 0.9031\n",
            "Epoch 4/20\n",
            "938/938 [==============================] - 241s 257ms/step - loss: 0.2565 - accuracy: 0.9058 - val_loss: 0.2553 - val_accuracy: 0.9086\n",
            "Epoch 5/20\n",
            "938/938 [==============================] - 244s 260ms/step - loss: 0.2385 - accuracy: 0.9136 - val_loss: 0.2501 - val_accuracy: 0.9094\n",
            "Epoch 6/20\n",
            "938/938 [==============================] - 244s 260ms/step - loss: 0.2192 - accuracy: 0.9196 - val_loss: 0.2545 - val_accuracy: 0.9069\n",
            "Epoch 7/20\n",
            "938/938 [==============================] - 244s 260ms/step - loss: 0.2093 - accuracy: 0.9230 - val_loss: 0.2571 - val_accuracy: 0.9077\n",
            "Epoch 8/20\n",
            "938/938 [==============================] - 243s 260ms/step - loss: 0.1949 - accuracy: 0.9290 - val_loss: 0.2208 - val_accuracy: 0.9205\n",
            "Epoch 9/20\n",
            "938/938 [==============================] - 246s 263ms/step - loss: 0.1838 - accuracy: 0.9318 - val_loss: 0.2272 - val_accuracy: 0.9174\n",
            "Epoch 10/20\n",
            "938/938 [==============================] - 247s 264ms/step - loss: 0.1744 - accuracy: 0.9353 - val_loss: 0.2339 - val_accuracy: 0.9197\n",
            "Epoch 11/20\n",
            "938/938 [==============================] - 251s 268ms/step - loss: 0.1682 - accuracy: 0.9378 - val_loss: 0.2180 - val_accuracy: 0.9255\n",
            "Epoch 12/20\n",
            "938/938 [==============================] - 249s 265ms/step - loss: 0.1581 - accuracy: 0.9423 - val_loss: 0.2238 - val_accuracy: 0.9215\n",
            "Epoch 13/20\n",
            "938/938 [==============================] - 255s 272ms/step - loss: 0.1511 - accuracy: 0.9437 - val_loss: 0.2446 - val_accuracy: 0.9180\n"
          ],
          "name": "stdout"
        },
        {
          "output_type": "execute_result",
          "data": {
            "text/plain": [
              "<tensorflow.python.keras.callbacks.History at 0x7fe210e3c080>"
            ]
          },
          "metadata": {
            "tags": []
          },
          "execution_count": 7
        }
      ]
    },
    {
      "cell_type": "code",
      "metadata": {
        "id": "p98o444s4PiK",
        "colab_type": "code",
        "colab": {
          "base_uri": "https://localhost:8080/",
          "height": 595
        },
        "outputId": "0003c475-f458-4fa9-a531-af5f282da9c2"
      },
      "source": [
        "model.summary()"
      ],
      "execution_count": 8,
      "outputs": [
        {
          "output_type": "stream",
          "text": [
            "Model: \"sequential\"\n",
            "_________________________________________________________________\n",
            "Layer (type)                 Output Shape              Param #   \n",
            "=================================================================\n",
            "conv2d (Conv2D)              (None, 28, 28, 32)        320       \n",
            "_________________________________________________________________\n",
            "spatial_dropout2d (SpatialDr (None, 28, 28, 32)        0         \n",
            "_________________________________________________________________\n",
            "conv2d_1 (Conv2D)            (None, 28, 28, 32)        9248      \n",
            "_________________________________________________________________\n",
            "max_pooling2d (MaxPooling2D) (None, 14, 14, 32)        0         \n",
            "_________________________________________________________________\n",
            "conv2d_2 (Conv2D)            (None, 14, 14, 64)        18496     \n",
            "_________________________________________________________________\n",
            "spatial_dropout2d_1 (Spatial (None, 14, 14, 64)        0         \n",
            "_________________________________________________________________\n",
            "conv2d_3 (Conv2D)            (None, 14, 14, 64)        36928     \n",
            "_________________________________________________________________\n",
            "max_pooling2d_1 (MaxPooling2 (None, 7, 7, 64)          0         \n",
            "_________________________________________________________________\n",
            "conv2d_4 (Conv2D)            (None, 5, 5, 128)         73856     \n",
            "_________________________________________________________________\n",
            "max_pooling2d_2 (MaxPooling2 (None, 2, 2, 128)         0         \n",
            "_________________________________________________________________\n",
            "global_max_pooling2d (Global (None, 128)               0         \n",
            "_________________________________________________________________\n",
            "dense (Dense)                (None, 128)               16512     \n",
            "_________________________________________________________________\n",
            "dense_1 (Dense)              (None, 10)                1290      \n",
            "=================================================================\n",
            "Total params: 156,650\n",
            "Trainable params: 156,650\n",
            "Non-trainable params: 0\n",
            "_________________________________________________________________\n"
          ],
          "name": "stdout"
        }
      ]
    },
    {
      "cell_type": "code",
      "metadata": {
        "id": "xToIj3u14Qc0",
        "colab_type": "code",
        "colab": {
          "base_uri": "https://localhost:8080/",
          "height": 51
        },
        "outputId": "d1188784-20f2-45d9-e1df-8cd927e18895"
      },
      "source": [
        "model.evaluate(X_test, y_test)"
      ],
      "execution_count": 9,
      "outputs": [
        {
          "output_type": "stream",
          "text": [
            "313/313 [==============================] - 9s 30ms/step - loss: 0.2446 - accuracy: 0.9180\n"
          ],
          "name": "stdout"
        },
        {
          "output_type": "execute_result",
          "data": {
            "text/plain": [
              "[0.24456970393657684, 0.9179999828338623]"
            ]
          },
          "metadata": {
            "tags": []
          },
          "execution_count": 9
        }
      ]
    },
    {
      "cell_type": "markdown",
      "metadata": {
        "id": "2mXNRFJPqY1R",
        "colab_type": "text"
      },
      "source": [
        "<br>\n",
        "<br>\n",
        "<hr>\n",
        "<br>\n",
        "\n",
        "\n",
        "### Convolução Transposta\n",
        "\n",
        "A convolução transposta é a operação de convolução que tem por objetivo realizar o UpSampling das imagens, é uma camada muito utilizada para Super-Resolução e também segmantação de imagens. \n",
        "\n",
        "Vou procurar aplicar como um teste, esta camada em nossa arquitetura e ver os resultados finais, aplicado a classificação de imagens. \n",
        "\n",
        "\n",
        "\n",
        "<br>\n",
        "<hr>"
      ]
    },
    {
      "cell_type": "code",
      "metadata": {
        "id": "n9KbuRAgq3eJ",
        "colab_type": "code",
        "colab": {}
      },
      "source": [
        "from tensorflow.keras.layers import Conv2DTranspose"
      ],
      "execution_count": 10,
      "outputs": []
    },
    {
      "cell_type": "code",
      "metadata": {
        "id": "hWKDbaIjrB3-",
        "colab_type": "code",
        "colab": {}
      },
      "source": [
        "# (Alterar Strides da Convolução Transposta)\n",
        "\n",
        "model = Sequential()\n",
        "model.add(Input(shape=(image_shape)))\n",
        "model.add(Conv2D(32, (3,3), activation='relu', padding='same'))\n",
        "model.add(SpatialDropout2D(rate=0.30))\n",
        "model.add(Conv2D(32, (3,3), activation='relu', padding='same'))\n",
        "model.add(MaxPool2D(2,2))\n",
        "model.add(Conv2D(64, (3,3), activation='relu', padding='same'))\n",
        "model.add(Conv2D(64, (3,3), activation='relu', padding='same'))\n",
        "model.add(MaxPool2D(2,2))\n",
        "model.add(Conv2D(128, (3,3), activation='relu', padding='valid'))\n",
        "model.add(MaxPool2D(2,2))\n",
        "model.add(Conv2DTranspose(128, (3,3)))\n",
        "model.add(Conv2DTranspose(64, (3,3)))\n",
        "model.add(Conv2DTranspose(64, (3,3)))\n",
        "model.add(Conv2DTranspose(32, (3,3)))\n",
        "model.add(Conv2DTranspose(32, (3,3)))\n",
        "model.add(GlobalMaxPool2D())\n",
        "model.add(Dense(128, activation='relu'))\n",
        "model.add(Dense(10, activation='softmax'))"
      ],
      "execution_count": 11,
      "outputs": []
    },
    {
      "cell_type": "code",
      "metadata": {
        "id": "1fZD8gtmreGh",
        "colab_type": "code",
        "colab": {
          "base_uri": "https://localhost:8080/",
          "height": 598
        },
        "outputId": "c21b9275-86b9-44ff-f3da-a6656c5a3f9f"
      },
      "source": [
        "# compile \n",
        "model.compile(optimizer=Adam(learning_rate=0.001),\n",
        "              loss=SparseCategoricalCrossentropy(),\n",
        "              metrics=['accuracy'])\n",
        "\n",
        "\n",
        "# EarlyStopping \n",
        "early_stopping = EarlyStopping(monitor='val_loss',\n",
        "                               mode='min',\n",
        "                               min_delta=0.001,\n",
        "                               patience=10\n",
        "                               )\n",
        "\n",
        "# treino \n",
        "model.fit(X_train, y_train,\n",
        "          epochs=30,\n",
        "          batch_size=64,\n",
        "          validation_data=(X_test, y_test),\n",
        "          callbacks=[early_stopping])"
      ],
      "execution_count": 12,
      "outputs": [
        {
          "output_type": "stream",
          "text": [
            "Epoch 1/30\n",
            "938/938 [==============================] - 319s 340ms/step - loss: 0.5737 - accuracy: 0.7886 - val_loss: 0.4001 - val_accuracy: 0.8544\n",
            "Epoch 2/30\n",
            "938/938 [==============================] - 321s 342ms/step - loss: 0.3355 - accuracy: 0.8772 - val_loss: 0.3880 - val_accuracy: 0.8648\n",
            "Epoch 3/30\n",
            "938/938 [==============================] - 318s 339ms/step - loss: 0.2868 - accuracy: 0.8959 - val_loss: 0.3115 - val_accuracy: 0.8930\n",
            "Epoch 4/30\n",
            "938/938 [==============================] - 327s 348ms/step - loss: 0.2576 - accuracy: 0.9070 - val_loss: 0.2868 - val_accuracy: 0.8990\n",
            "Epoch 5/30\n",
            "938/938 [==============================] - 342s 365ms/step - loss: 0.2403 - accuracy: 0.9122 - val_loss: 0.2965 - val_accuracy: 0.9006\n",
            "Epoch 6/30\n",
            "938/938 [==============================] - 345s 368ms/step - loss: 0.2271 - accuracy: 0.9182 - val_loss: 0.2345 - val_accuracy: 0.9139\n",
            "Epoch 7/30\n",
            "938/938 [==============================] - 345s 368ms/step - loss: 0.2115 - accuracy: 0.9237 - val_loss: 0.2554 - val_accuracy: 0.9084\n",
            "Epoch 8/30\n",
            "938/938 [==============================] - 343s 366ms/step - loss: 0.2031 - accuracy: 0.9272 - val_loss: 0.2594 - val_accuracy: 0.9081\n",
            "Epoch 9/30\n",
            "938/938 [==============================] - 353s 376ms/step - loss: 0.1949 - accuracy: 0.9286 - val_loss: 0.2517 - val_accuracy: 0.9115\n",
            "Epoch 10/30\n",
            "938/938 [==============================] - 349s 372ms/step - loss: 0.1841 - accuracy: 0.9344 - val_loss: 0.2604 - val_accuracy: 0.9100\n",
            "Epoch 11/30\n",
            "938/938 [==============================] - 335s 357ms/step - loss: 0.1736 - accuracy: 0.9372 - val_loss: 0.2604 - val_accuracy: 0.9118\n",
            "Epoch 12/30\n",
            "938/938 [==============================] - 340s 362ms/step - loss: 0.1696 - accuracy: 0.9389 - val_loss: 0.2755 - val_accuracy: 0.9147\n",
            "Epoch 13/30\n",
            "938/938 [==============================] - 310s 330ms/step - loss: 0.1581 - accuracy: 0.9434 - val_loss: 0.2617 - val_accuracy: 0.9132\n",
            "Epoch 14/30\n",
            "938/938 [==============================] - 310s 331ms/step - loss: 0.1589 - accuracy: 0.9426 - val_loss: 0.2603 - val_accuracy: 0.9151\n",
            "Epoch 15/30\n",
            "938/938 [==============================] - 314s 335ms/step - loss: 0.1446 - accuracy: 0.9479 - val_loss: 0.2639 - val_accuracy: 0.9150\n",
            "Epoch 16/30\n",
            "938/938 [==============================] - 315s 336ms/step - loss: 0.1440 - accuracy: 0.9484 - val_loss: 0.2766 - val_accuracy: 0.9177\n"
          ],
          "name": "stdout"
        },
        {
          "output_type": "execute_result",
          "data": {
            "text/plain": [
              "<tensorflow.python.keras.callbacks.History at 0x7fe20c5eb4e0>"
            ]
          },
          "metadata": {
            "tags": []
          },
          "execution_count": 12
        }
      ]
    },
    {
      "cell_type": "code",
      "metadata": {
        "id": "VxSdNmevvIGA",
        "colab_type": "code",
        "colab": {
          "base_uri": "https://localhost:8080/",
          "height": 731
        },
        "outputId": "f9650616-e4c1-4caf-e7b1-83c479792cd5"
      },
      "source": [
        "model.summary()"
      ],
      "execution_count": 13,
      "outputs": [
        {
          "output_type": "stream",
          "text": [
            "Model: \"sequential_1\"\n",
            "_________________________________________________________________\n",
            "Layer (type)                 Output Shape              Param #   \n",
            "=================================================================\n",
            "conv2d_5 (Conv2D)            (None, 28, 28, 32)        320       \n",
            "_________________________________________________________________\n",
            "spatial_dropout2d_2 (Spatial (None, 28, 28, 32)        0         \n",
            "_________________________________________________________________\n",
            "conv2d_6 (Conv2D)            (None, 28, 28, 32)        9248      \n",
            "_________________________________________________________________\n",
            "max_pooling2d_3 (MaxPooling2 (None, 14, 14, 32)        0         \n",
            "_________________________________________________________________\n",
            "conv2d_7 (Conv2D)            (None, 14, 14, 64)        18496     \n",
            "_________________________________________________________________\n",
            "conv2d_8 (Conv2D)            (None, 14, 14, 64)        36928     \n",
            "_________________________________________________________________\n",
            "max_pooling2d_4 (MaxPooling2 (None, 7, 7, 64)          0         \n",
            "_________________________________________________________________\n",
            "conv2d_9 (Conv2D)            (None, 5, 5, 128)         73856     \n",
            "_________________________________________________________________\n",
            "max_pooling2d_5 (MaxPooling2 (None, 2, 2, 128)         0         \n",
            "_________________________________________________________________\n",
            "conv2d_transpose (Conv2DTran (None, 4, 4, 128)         147584    \n",
            "_________________________________________________________________\n",
            "conv2d_transpose_1 (Conv2DTr (None, 6, 6, 64)          73792     \n",
            "_________________________________________________________________\n",
            "conv2d_transpose_2 (Conv2DTr (None, 8, 8, 64)          36928     \n",
            "_________________________________________________________________\n",
            "conv2d_transpose_3 (Conv2DTr (None, 10, 10, 32)        18464     \n",
            "_________________________________________________________________\n",
            "conv2d_transpose_4 (Conv2DTr (None, 12, 12, 32)        9248      \n",
            "_________________________________________________________________\n",
            "global_max_pooling2d_1 (Glob (None, 32)                0         \n",
            "_________________________________________________________________\n",
            "dense_2 (Dense)              (None, 128)               4224      \n",
            "_________________________________________________________________\n",
            "dense_3 (Dense)              (None, 10)                1290      \n",
            "=================================================================\n",
            "Total params: 430,378\n",
            "Trainable params: 430,378\n",
            "Non-trainable params: 0\n",
            "_________________________________________________________________\n"
          ],
          "name": "stdout"
        }
      ]
    },
    {
      "cell_type": "code",
      "metadata": {
        "id": "hOh1GrPVsA6r",
        "colab_type": "code",
        "colab": {
          "base_uri": "https://localhost:8080/",
          "height": 51
        },
        "outputId": "90098e30-64b6-4f6b-dba5-451e2bfe3e75"
      },
      "source": [
        "model.evaluate(X_test, y_test)"
      ],
      "execution_count": 14,
      "outputs": [
        {
          "output_type": "stream",
          "text": [
            "313/313 [==============================] - 17s 55ms/step - loss: 0.2766 - accuracy: 0.9177\n"
          ],
          "name": "stdout"
        },
        {
          "output_type": "execute_result",
          "data": {
            "text/plain": [
              "[0.2765956223011017, 0.9176999926567078]"
            ]
          },
          "metadata": {
            "tags": []
          },
          "execution_count": 14
        }
      ]
    }
  ]
}